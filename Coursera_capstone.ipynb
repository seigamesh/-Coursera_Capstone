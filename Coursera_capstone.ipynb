{
 "cells": [
  {
   "cell_type": "markdown",
   "metadata": {},
   "source": [
    "# Applied Data Science Capstone\n",
    "This notebook is mainly used for the capstone project from Coursera (IBM Applied Data Science Capstone)"
   ]
  },
  {
   "cell_type": "code",
   "execution_count": 2,
   "metadata": {},
   "outputs": [],
   "source": [
    "import pandas as pd \n",
    "import numpy as nP"
   ]
  },
  {
   "cell_type": "code",
   "execution_count": 3,
   "metadata": {},
   "outputs": [
    {
     "name": "stdout",
     "output_type": "stream",
     "text": [
      "Hello Capstone Project Course!\n"
     ]
    }
   ],
   "source": [
    "print('Hello Capstone Project Course!')"
   ]
  },
  {
   "cell_type": "markdown",
   "metadata": {},
   "source": [
    "# Peer-graded Assignment: Capstone Project - Car accident severity (Week 1)\n",
    "\n",
    "    \n",
    "## Introduction/Business Proble\n",
    "\n",
    "Background -　According to <a href=\"https://www.driverknowledge.com/car-accident-statistics/\">DRIVER KNOWLEDGE</a>, average number of car accidents in the .U.S. is 6 million  every year. Car accidents are caused by not only one factor. It happens by various factors.\n",
    "If we can find the major factors which lead severe car accidents, it would change drivers' mind and they mingt drive more carefully in the situation which results in severe car accidents. This change would reduce the number of accidnet.\n",
    "\n",
    "Purpose - Based on the above, the purpose of analysis in this notebook is to predict the severity of the accidents. I will analyse the reationships between car accidents and several factors such as weather conditions, special events, roadworks and traffic jams among others.\n",
    "\n",
    "## Data\n",
    "Data - The data set I will use includes all types of collisions which happened in Seattle between 2004 and present. \n",
    "The data set has 194673 rows and 38 columns. The columns mainly cantains the severity of the accident, the location where the accident happened and the information of the situation in which the car accident happend.  \n",
    "\n",
    "How I will use the data for my analysis - I am going to use the information of the car accident situation as factors such as weather conditions, special events, roadworks and traffic jams to predict the sevelity of the accident. To know the sevelity, I will look at the SEVERITYCODE:\n",
    "\n",
    "- 3—fatality\n",
    "- 2b—serious injury\n",
    "- 2—injury\n",
    "- 1—prop damage\n",
    "- 0—unknown "
   ]
  },
  {
   "cell_type": "code",
   "execution_count": 4,
   "metadata": {},
   "outputs": [
    {
     "name": "stderr",
     "output_type": "stream",
     "text": [
      "/opt/anaconda3/lib/python3.7/site-packages/IPython/core/interactiveshell.py:3063: DtypeWarning: Columns (33) have mixed types.Specify dtype option on import or set low_memory=False.\n",
      "  interactivity=interactivity, compiler=compiler, result=result)\n"
     ]
    }
   ],
   "source": [
    "df1 = pd.read_csv(\"Data-Collisions.csv\")"
   ]
  },
  {
   "cell_type": "code",
   "execution_count": 18,
   "metadata": {},
   "outputs": [
    {
     "data": {
      "text/plain": [
       "(194673, 38)"
      ]
     },
     "execution_count": 18,
     "metadata": {},
     "output_type": "execute_result"
    }
   ],
   "source": [
    "df1.shape"
   ]
  },
  {
   "cell_type": "code",
   "execution_count": null,
   "metadata": {},
   "outputs": [],
   "source": []
  }
 ],
 "metadata": {
  "kernelspec": {
   "display_name": "Python 3",
   "language": "python",
   "name": "python3"
  },
  "language_info": {
   "codemirror_mode": {
    "name": "ipython",
    "version": 3
   },
   "file_extension": ".py",
   "mimetype": "text/x-python",
   "name": "python",
   "nbconvert_exporter": "python",
   "pygments_lexer": "ipython3",
   "version": "3.7.6"
  }
 },
 "nbformat": 4,
 "nbformat_minor": 4
}
